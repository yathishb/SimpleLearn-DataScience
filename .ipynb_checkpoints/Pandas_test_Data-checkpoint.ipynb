{
 "cells": [
  {
   "cell_type": "code",
   "execution_count": 1,
   "id": "ce544f7e-35c7-44e1-9218-120b7e9b544e",
   "metadata": {},
   "outputs": [],
   "source": [
    "import pandas as pd"
   ]
  },
  {
   "cell_type": "code",
   "execution_count": 3,
   "id": "bb6481ae-056b-4c39-b7d5-becaf5f844c1",
   "metadata": {},
   "outputs": [],
   "source": [
    "df=pd.DataFrame({'Column':['Hello','World',\"Python\"]})"
   ]
  },
  {
   "cell_type": "code",
   "execution_count": 9,
   "id": "a4067030-92fe-4b0c-aba7-02df80ad7123",
   "metadata": {},
   "outputs": [
    {
     "name": "stdout",
     "output_type": "stream",
     "text": [
      "   Column  Char_Len\n",
      "0   Hello         5\n",
      "1   World         5\n",
      "2  Python         6\n"
     ]
    }
   ],
   "source": [
    "df['Char_Len']=df['Column'].str.len()\n",
    "print(df)"
   ]
  },
  {
   "cell_type": "code",
   "execution_count": 15,
   "id": "93d0d2a4-2c6a-476e-8e0f-adbff0861302",
   "metadata": {},
   "outputs": [
    {
     "name": "stdout",
     "output_type": "stream",
     "text": [
      "   Column Char_Len\n",
      "0   Hello    hello\n",
      "1   World    world\n",
      "2  Python   python\n",
      "   Column Char_Len\n",
      "0   Hello    HELLO\n",
      "1   World    WORLD\n",
      "2  Python   PYTHON\n",
      "   Column Char_Len\n",
      "0   Hello    Hello\n",
      "1   World    World\n",
      "2  Python   Python\n"
     ]
    }
   ],
   "source": [
    "df['Char_Len']=df['Column'].str.lower()\n",
    "print(df)\n",
    "df['Char_Len']=df['Column'].str.upper()\n",
    "print(df)\n",
    "df['Char_Len']=df['Column'].str.title()\n",
    "print(df)"
   ]
  },
  {
   "cell_type": "code",
   "execution_count": 27,
   "id": "9e161929-6fa1-422b-ae6c-fafd2d72071e",
   "metadata": {},
   "outputs": [
    {
     "name": "stdout",
     "output_type": "stream",
     "text": [
      "   Column Char_Len  IsPythonExits\n",
      "0   Hello    Hello          False\n",
      "1   World    World          False\n",
      "2  Python   Python           True\n"
     ]
    }
   ],
   "source": [
    "df['IsPythonExits']=(df['Column'].str.lower()).str.contains('python')\n",
    "print(df)"
   ]
  },
  {
   "cell_type": "code",
   "execution_count": null,
   "id": "e8321af4-aa95-4ee3-86dc-89823ab7dde1",
   "metadata": {},
   "outputs": [],
   "source": []
  }
 ],
 "metadata": {
  "kernelspec": {
   "display_name": "Python 3 (ipykernel)",
   "language": "python",
   "name": "python3"
  },
  "language_info": {
   "codemirror_mode": {
    "name": "ipython",
    "version": 3
   },
   "file_extension": ".py",
   "mimetype": "text/x-python",
   "name": "python",
   "nbconvert_exporter": "python",
   "pygments_lexer": "ipython3",
   "version": "3.11.5"
  }
 },
 "nbformat": 4,
 "nbformat_minor": 5
}
