{
 "cells": [
  {
   "cell_type": "code",
   "execution_count": 1,
   "id": "ce544f7e-35c7-44e1-9218-120b7e9b544e",
   "metadata": {},
   "outputs": [],
   "source": [
    "import pandas as pd"
   ]
  },
  {
   "cell_type": "code",
   "execution_count": 93,
   "id": "bb6481ae-056b-4c39-b7d5-becaf5f844c1",
   "metadata": {},
   "outputs": [],
   "source": [
    "df=pd.DataFrame({'Column':['Hello','World',\"Python\"]})"
   ]
  },
  {
   "cell_type": "code",
   "execution_count": 95,
   "id": "a4067030-92fe-4b0c-aba7-02df80ad7123",
   "metadata": {},
   "outputs": [
    {
     "name": "stdout",
     "output_type": "stream",
     "text": [
      "   Column  Char_Len\n",
      "0   Hello         5\n",
      "1   World         5\n",
      "2  Python         6\n"
     ]
    }
   ],
   "source": [
    "df['Char_Len']=df['Column'].str.len()\n",
    "print(df)"
   ]
  },
  {
   "cell_type": "code",
   "execution_count": 97,
   "id": "93d0d2a4-2c6a-476e-8e0f-adbff0861302",
   "metadata": {},
   "outputs": [
    {
     "name": "stdout",
     "output_type": "stream",
     "text": [
      "   Column  Char_Len Char_lower\n",
      "0   Hello         5      hello\n",
      "1   World         5      world\n",
      "2  Python         6     python\n",
      "   Column  Char_Len Char_lower Char_upper\n",
      "0   Hello         5      hello      HELLO\n",
      "1   World         5      world      WORLD\n",
      "2  Python         6     python     PYTHON\n",
      "   Column  Char_Len Char_lower Char_upper Char_title\n",
      "0   Hello         5      hello      HELLO      Hello\n",
      "1   World         5      world      WORLD      World\n",
      "2  Python         6     python     PYTHON     Python\n"
     ]
    }
   ],
   "source": [
    "df['Char_lower']=df['Column'].str.lower()\n",
    "print(df)\n",
    "df['Char_upper']=df['Column'].str.upper()\n",
    "print(df)\n",
    "df['Char_title']=df['Column'].str.title()\n",
    "print(df)"
   ]
  },
  {
   "cell_type": "code",
   "execution_count": 99,
   "id": "9e161929-6fa1-422b-ae6c-fafd2d72071e",
   "metadata": {},
   "outputs": [
    {
     "name": "stdout",
     "output_type": "stream",
     "text": [
      "   Column  Char_Len Char_lower Char_upper Char_title  IsPythonExits\n",
      "0   Hello         5      hello      HELLO      Hello          False\n",
      "1   World         5      world      WORLD      World          False\n",
      "2  Python         6     python     PYTHON     Python           True\n"
     ]
    }
   ],
   "source": [
    "df['IsPythonExits']=(df['Column'].str.lower()).str.contains('python')\n",
    "print(df)"
   ]
  },
  {
   "cell_type": "code",
   "execution_count": 101,
   "id": "e8321af4-aa95-4ee3-86dc-89823ab7dde1",
   "metadata": {},
   "outputs": [
    {
     "name": "stdout",
     "output_type": "stream",
     "text": [
      "0-Column           Hello\n",
      "Char_Len             5\n",
      "Char_lower       hello\n",
      "Char_upper       HELLO\n",
      "Char_title       Hello\n",
      "IsPythonExits    False\n",
      "Name: 0, dtype: object\n",
      "\n",
      "1-Column           World\n",
      "Char_Len             5\n",
      "Char_lower       world\n",
      "Char_upper       WORLD\n",
      "Char_title       World\n",
      "IsPythonExits    False\n",
      "Name: 1, dtype: object\n",
      "\n",
      "2-Column           Python\n",
      "Char_Len              6\n",
      "Char_lower       python\n",
      "Char_upper       PYTHON\n",
      "Char_title       Python\n",
      "IsPythonExits      True\n",
      "Name: 2, dtype: object\n",
      "\n"
     ]
    }
   ],
   "source": [
    "for i,r in df.iterrows():\n",
    "    print(\"{}-{}\\n\".format(i,r))"
   ]
  },
  {
   "cell_type": "code",
   "execution_count": 105,
   "id": "1adcfb85-9f41-4498-b8f4-daede8c8af03",
   "metadata": {},
   "outputs": [
    {
     "name": "stdout",
     "output_type": "stream",
     "text": [
      "0-Hello-5-hello\n",
      "1-World-5-world\n",
      "2-Python-6-python\n"
     ]
    }
   ],
   "source": [
    "for r in df.itertuples():\n",
    "    print(\"{}-{}-{}-{}\".format(r.Index,r.Column,r.Char_Len,r.Char_lower))"
   ]
  },
  {
   "cell_type": "code",
   "execution_count": 83,
   "id": "b2574abe-2238-4b05-907d-b8d9943b1315",
   "metadata": {},
   "outputs": [
    {
     "name": "stdout",
     "output_type": "stream",
     "text": [
      "   Numbers  Mutiplied\n",
      "0       10         20\n",
      "1       20         40\n",
      "2       30         60\n",
      "3       40         80\n"
     ]
    }
   ],
   "source": [
    "df=pd.DataFrame({\"Numbers\":[10,20,30,40]})\n",
    "df['Mutiplied']=df['Numbers'].apply(lambda x:x*2)\n",
    "print(df)"
   ]
  },
  {
   "cell_type": "code",
   "execution_count": 117,
   "id": "8f4c659e-87f7-49d9-9ee7-242740767366",
   "metadata": {},
   "outputs": [
    {
     "name": "stdout",
     "output_type": "stream",
     "text": [
      "   ColumnA  ColumnB  Result_Column\n",
      "0       10       20             30\n",
      "1       11       21             32\n",
      "2       12       22             34\n",
      "3       13       23             36\n",
      "4       14       24             38\n",
      "5       15       25             40\n",
      "6       16       26             42\n",
      "7       17       27             44\n",
      "8       18       28             46\n",
      "9       19       29             48\n"
     ]
    }
   ],
   "source": [
    "df=pd.DataFrame({\"ColumnA\":range(10,20),\"ColumnB\":range(20,30)})\n",
    "df['Result_Column']=df['ColumnA']+df['ColumnB']\n",
    "print(df)"
   ]
  },
  {
   "cell_type": "code",
   "execution_count": 119,
   "id": "48a9030d-e2e6-47e9-82bf-c882cf655bfb",
   "metadata": {},
   "outputs": [
    {
     "name": "stdout",
     "output_type": "stream",
     "text": [
      "Pandas(Index=0, ColumnA=10, ColumnB=20, Result_Column=30)\n",
      "Pandas(Index=1, ColumnA=11, ColumnB=21, Result_Column=32)\n",
      "Pandas(Index=2, ColumnA=12, ColumnB=22, Result_Column=34)\n",
      "Pandas(Index=3, ColumnA=13, ColumnB=23, Result_Column=36)\n",
      "Pandas(Index=4, ColumnA=14, ColumnB=24, Result_Column=38)\n",
      "Pandas(Index=5, ColumnA=15, ColumnB=25, Result_Column=40)\n",
      "Pandas(Index=6, ColumnA=16, ColumnB=26, Result_Column=42)\n",
      "Pandas(Index=7, ColumnA=17, ColumnB=27, Result_Column=44)\n",
      "Pandas(Index=8, ColumnA=18, ColumnB=28, Result_Column=46)\n",
      "Pandas(Index=9, ColumnA=19, ColumnB=29, Result_Column=48)\n"
     ]
    }
   ],
   "source": [
    "# Interating over a series\n",
    "for i in df.itertuples():\n",
    "    print(i)"
   ]
  },
  {
   "cell_type": "code",
   "execution_count": 133,
   "id": "85c9ccd8-33c6-4d04-9ff4-e04ce95e33b1",
   "metadata": {},
   "outputs": [
    {
     "name": "stdout",
     "output_type": "stream",
     "text": [
      "(0, 10)\n",
      "(1, 11)\n",
      "(2, 12)\n",
      "(3, 13)\n",
      "(4, 14)\n",
      "(5, 15)\n",
      "(6, 16)\n",
      "(7, 17)\n",
      "(8, 18)\n",
      "(9, 19)\n",
      "0\n",
      "1\n",
      "2\n",
      "3\n",
      "4\n",
      "5\n",
      "6\n",
      "7\n",
      "8\n",
      "9\n"
     ]
    },
    {
     "ename": "TypeError",
     "evalue": "'numpy.ndarray' object is not callable",
     "output_type": "error",
     "traceback": [
      "\u001b[0;31m---------------------------------------------------------------------------\u001b[0m",
      "\u001b[0;31mTypeError\u001b[0m                                 Traceback (most recent call last)",
      "Cell \u001b[0;32mIn[133], line 6\u001b[0m\n\u001b[1;32m      4\u001b[0m \u001b[38;5;28;01mfor\u001b[39;00m i \u001b[38;5;129;01min\u001b[39;00m series\u001b[38;5;241m.\u001b[39mkeys():\n\u001b[1;32m      5\u001b[0m     \u001b[38;5;28mprint\u001b[39m(i)\n\u001b[0;32m----> 6\u001b[0m \u001b[38;5;28;01mfor\u001b[39;00m i \u001b[38;5;129;01min\u001b[39;00m series\u001b[38;5;241m.\u001b[39mvalues():\n\u001b[1;32m      7\u001b[0m     \u001b[38;5;28mprint\u001b[39m(i)\n",
      "\u001b[0;31mTypeError\u001b[0m: 'numpy.ndarray' object is not callable"
     ]
    }
   ],
   "source": [
    "series=pd.Series(range(10,20), name=\"Value\")\n",
    "for i in series.items():\n",
    "    print(i)"
   ]
  },
  {
   "cell_type": "code",
   "execution_count": null,
   "id": "31ed5555-8da6-4b4a-9f01-0bf848c2d71a",
   "metadata": {},
   "outputs": [],
   "source": []
  }
 ],
 "metadata": {
  "kernelspec": {
   "display_name": "Python 3 (ipykernel)",
   "language": "python",
   "name": "python3"
  },
  "language_info": {
   "codemirror_mode": {
    "name": "ipython",
    "version": 3
   },
   "file_extension": ".py",
   "mimetype": "text/x-python",
   "name": "python",
   "nbconvert_exporter": "python",
   "pygments_lexer": "ipython3",
   "version": "3.11.5"
  }
 },
 "nbformat": 4,
 "nbformat_minor": 5
}
