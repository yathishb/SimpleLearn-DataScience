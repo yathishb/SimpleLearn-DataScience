{
 "cells": [
  {
   "cell_type": "code",
   "execution_count": 33,
   "id": "067f12bc-6d21-4722-9edc-cf17018fecf5",
   "metadata": {},
   "outputs": [],
   "source": [
    "##Arithematic Operations Using Numpy"
   ]
  },
  {
   "cell_type": "code",
   "execution_count": null,
   "id": "a9a1dc47-9808-41ca-a0a6-62d2cbabf73c",
   "metadata": {},
   "outputs": [],
   "source": [
    "import numpy as np"
   ]
  },
  {
   "cell_type": "code",
   "execution_count": 56,
   "id": "914c369f-2fa8-428c-91f7-d5062587242a",
   "metadata": {},
   "outputs": [
    {
     "name": "stdout",
     "output_type": "stream",
     "text": [
      "a: [0 1 2 3 4]\n",
      "b: [5 6 7 8 9]\n",
      "Sum: [ 5  7  9 11 13]\n"
     ]
    }
   ],
   "source": [
    "a = np.array(range(5))\n",
    "b = np.array(range(5,10))\n",
    "print(\"a:\",a)\n",
    "print(\"b:\",b)\n",
    "sum_of_np_arrays = np.add(a,b)\n",
    "print(\"Sum:\",sum_of_np_arrays)"
   ]
  },
  {
   "cell_type": "code",
   "execution_count": 58,
   "id": "743c4f5a-1808-4112-87ab-248acba3ebf7",
   "metadata": {},
   "outputs": [
    {
     "name": "stdout",
     "output_type": "stream",
     "text": [
      "a: [15 16 17 18 19]\n",
      "b: [0 1 2 3 4]\n",
      "Subtract: [ 5  7  9 11 13]\n"
     ]
    }
   ],
   "source": [
    "a = np.array(range(15,20))\n",
    "b = np.array(range(5))\n",
    "print(\"a:\",a)\n",
    "print(\"b:\",b)\n",
    "substract_of_np_arrays = np.subtract(a,b)\n",
    "print(\"Subtract:\",substract_of_np_arrays)"
   ]
  },
  {
   "cell_type": "code",
   "execution_count": 90,
   "id": "dbd3b394-56b1-47e9-a245-c7789c8be31c",
   "metadata": {},
   "outputs": [
    {
     "name": "stdout",
     "output_type": "stream",
     "text": [
      "a: [15 16 17 18 19]\n",
      "b: [0 1 2 3 4]\n",
      "Subtract: [ 0 16 34 54 76]\n",
      "[ 0 16 34 54 76]\n"
     ]
    }
   ],
   "source": [
    "a = np.array(range(15,20))\n",
    "b = np.array(range(5))\n",
    "print(\"a:\",a)\n",
    "print(\"b:\",b)\n",
    "mul_of_np_arrays = np.multiply(a,b)\n",
    "print(\"Subtract:\",mul_of_np_arrays)"
   ]
  },
  {
   "cell_type": "code",
   "execution_count": 110,
   "id": "c7cb9c8d-8308-4de3-b2aa-afc08fb09c8b",
   "metadata": {},
   "outputs": [
    {
     "name": "stdout",
     "output_type": "stream",
     "text": [
      "a: [[ 2  4  6  8 10]\n",
      " [12 14 16 18 20]]\n",
      "b: [10 11 12 13 14]\n",
      "Divide: [[0.2        0.36363636 0.5        0.61538462 0.71428571]\n",
      " [1.2        1.27272727 1.33333333 1.38461538 1.42857143]]\n"
     ]
    }
   ],
   "source": [
    "a = np.array([[2,4,6,8,10],[12,14,16,18,20]])\n",
    "b = np.array(range(10,15))\n",
    "print(\"a:\",a)\n",
    "print(\"b:\",b)\n",
    "divide_of_np_arrays = np.divide(a,b)\n",
    "print(\"Divide:\",divide_of_np_arrays)"
   ]
  },
  {
   "cell_type": "code",
   "execution_count": null,
   "id": "d818becf-c8f5-4489-a11b-43cba2daf89d",
   "metadata": {},
   "outputs": [],
   "source": []
  }
 ],
 "metadata": {
  "kernelspec": {
   "display_name": "Python 3 (ipykernel)",
   "language": "python",
   "name": "python3"
  },
  "language_info": {
   "codemirror_mode": {
    "name": "ipython",
    "version": 3
   },
   "file_extension": ".py",
   "mimetype": "text/x-python",
   "name": "python",
   "nbconvert_exporter": "python",
   "pygments_lexer": "ipython3",
   "version": "3.11.5"
  }
 },
 "nbformat": 4,
 "nbformat_minor": 5
}
