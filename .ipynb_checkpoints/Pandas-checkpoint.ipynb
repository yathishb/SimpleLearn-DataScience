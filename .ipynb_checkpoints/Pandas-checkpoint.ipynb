{
 "cells": [
  {
   "cell_type": "code",
   "execution_count": 10,
   "id": "34ba7a04-1cb2-439e-afcc-51721433a981",
   "metadata": {},
   "outputs": [],
   "source": [
    "import pandas as pd"
   ]
  },
  {
   "cell_type": "markdown",
   "id": "d253cb4a-aaf2-46c2-a89f-334616f43a42",
   "metadata": {},
   "source": [
    "### Date and Time Delta"
   ]
  },
  {
   "cell_type": "code",
   "execution_count": 64,
   "id": "349a2d95-2289-469d-a2ac-ba0fbe2e97e9",
   "metadata": {},
   "outputs": [
    {
     "name": "stdout",
     "output_type": "stream",
     "text": [
      "         date\n",
      "0  2023-01-01\n",
      "1  2022-01-01\n",
      "2  2023-02-15\n",
      "3  2023-03-24\n"
     ]
    }
   ],
   "source": [
    "data={\"date\":['2023-01-01','2022-01-01','2023-02-15','2023-03-24']}\n",
    "df=pd.DataFrame(data)\n",
    "print(df)"
   ]
  },
  {
   "cell_type": "code",
   "execution_count": 62,
   "id": "49b00780-7822-4ef7-bebb-6b928700aec4",
   "metadata": {},
   "outputs": [
    {
     "name": "stdout",
     "output_type": "stream",
     "text": [
      "0   2023-01-01\n",
      "1   2022-01-01\n",
      "2   2023-02-15\n",
      "3   2023-03-24\n",
      "Name: date, dtype: datetime64[ns]\n",
      "0     1\n",
      "1     1\n",
      "2    15\n",
      "3    24\n",
      "Name: day, dtype: int32\n",
      "0    1\n",
      "1    1\n",
      "2    2\n",
      "3    3\n",
      "Name: month, dtype: int32\n",
      "0    2023\n",
      "1    2022\n",
      "2    2023\n",
      "3    2023\n",
      "Name: year, dtype: int32\n"
     ]
    }
   ],
   "source": [
    "df['date']=pd.to_datetime(df['date'])\n",
    "df['day']=df['date'].dt.day\n",
    "df['month']=df['date'].dt.month\n",
    "df['year']=df['date'].dt.year\n",
    "print(\"{}\\n{}\\n{}\\n{}\".format(df['date'],df['day'],df['month'],df['year']))"
   ]
  },
  {
   "cell_type": "code",
   "execution_count": 118,
   "id": "3297e678-b317-48af-8063-2e25e1eceef7",
   "metadata": {},
   "outputs": [
    {
     "name": "stdout",
     "output_type": "stream",
     "text": [
      "        Date  Weekday  IsWeekend  IsWeekday\n",
      "0 2024-01-01        0      False       True\n",
      "1 2024-01-02        1      False       True\n",
      "2 2024-01-03        2      False       True\n",
      "3 2024-01-04        3      False       True\n",
      "4 2024-01-05        4      False       True\n",
      "5 2024-01-06        5       True      False\n",
      "6 2024-01-07        6       True      False\n",
      "7 2024-01-08        0      False       True\n",
      "8 2024-01-09        1      False       True\n",
      "9 2024-01-10        2      False       True\n"
     ]
    }
   ],
   "source": [
    "## Extracting Weekdays information \n",
    "df=pd.DataFrame({'Date':pd.date_range(start='2024-01-01',periods=10)})\n",
    "df['Weekday']=df['Date'].dt.weekday\n",
    "df['IsWeekend']=df['Date'].dt.weekday // 5 == 1 # Print Wheather the day is weekday or weekend\n",
    "df['IsWeekday']=(df['Date'].dt.weekday / 5 < 1)\n",
    "print(df)"
   ]
  },
  {
   "cell_type": "code",
   "execution_count": 112,
   "id": "e08e713e-fd60-47b1-a317-739dc3bb709b",
   "metadata": {},
   "outputs": [
    {
     "name": "stdout",
     "output_type": "stream",
     "text": [
      "        Date  Weekday  IsWeekend  IsWeekday PreviousDate    NxtDate\n",
      "0 2024-01-01        0      False       True   2023-12-31 2024-01-02\n",
      "1 2024-01-02        1      False       True   2024-01-01 2024-01-03\n",
      "2 2024-01-03        2      False       True   2024-01-02 2024-01-04\n",
      "3 2024-01-04        3      False       True   2024-01-03 2024-01-05\n",
      "4 2024-01-05        4      False       True   2024-01-04 2024-01-06\n",
      "5 2024-01-06        5       True      False   2024-01-05 2024-01-07\n",
      "6 2024-01-07        6       True      False   2024-01-06 2024-01-08\n",
      "7 2024-01-08        0      False       True   2024-01-07 2024-01-09\n",
      "8 2024-01-09        1      False       True   2024-01-08 2024-01-10\n",
      "9 2024-01-10        2      False       True   2024-01-09 2024-01-11\n"
     ]
    }
   ],
   "source": [
    "df['PreviousDate']=df['Date']-pd.Timedelta(days=1)\n",
    "df['NxtDate']=df['Date']+pd.Timedelta(days=1)\n",
    "print(df)"
   ]
  },
  {
   "cell_type": "code",
   "execution_count": 136,
   "id": "a7b687b6-7d7f-4221-9bd3-cd9e40c7f052",
   "metadata": {},
   "outputs": [
    {
     "name": "stdout",
     "output_type": "stream",
     "text": [
      "                 data  Value1  Value2\n",
      "0 2023-01-01 00:00:00       0      10\n",
      "1 2023-01-01 00:01:00       1      11\n",
      "2 2023-01-01 00:02:00       2      12\n",
      "3 2023-01-01 00:03:00       3      13\n",
      "4 2023-01-01 00:04:00       4      14\n",
      "5 2023-01-01 00:05:00       5      15\n",
      "6 2023-01-01 00:06:00       6      16\n",
      "7 2023-01-01 00:07:00       7      17\n",
      "8 2023-01-01 00:08:00       8      18\n",
      "9 2023-01-01 00:09:00       9      19\n"
     ]
    }
   ],
   "source": [
    "# Create DataFrame with Time Based Data\n",
    "data={'data':pd.date_range(start='2023-01-01',periods=10,freq='Min'),'Value1':range(10),'Value2':range(10,20)}\n",
    "# Freq Can be changed to H -> Hour , M -> Month , Min -> Min , Date -> Date\n",
    "df=pd.DataFrame(data)\n",
    "print(df)"
   ]
  },
  {
   "cell_type": "code",
   "execution_count": null,
   "id": "b1ddab5a-4199-4300-af97-febb6855cad1",
   "metadata": {},
   "outputs": [],
   "source": []
  }
 ],
 "metadata": {
  "kernelspec": {
   "display_name": "Python 3 (ipykernel)",
   "language": "python",
   "name": "python3"
  },
  "language_info": {
   "codemirror_mode": {
    "name": "ipython",
    "version": 3
   },
   "file_extension": ".py",
   "mimetype": "text/x-python",
   "name": "python",
   "nbconvert_exporter": "python",
   "pygments_lexer": "ipython3",
   "version": "3.11.5"
  }
 },
 "nbformat": 4,
 "nbformat_minor": 5
}
