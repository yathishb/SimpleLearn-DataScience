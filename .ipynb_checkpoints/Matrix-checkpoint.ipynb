{
 "cells": [
  {
   "cell_type": "code",
   "execution_count": 1,
   "id": "fef1205d-da44-49bd-b4fa-04472488443e",
   "metadata": {},
   "outputs": [],
   "source": [
    "import numpy as np\n",
    "import pandas as pd"
   ]
  },
  {
   "cell_type": "code",
   "execution_count": 3,
   "id": "603dc99c-01ea-440c-81da-8358b97edd94",
   "metadata": {},
   "outputs": [],
   "source": [
    "array1=np.array(range(0,9))\n",
    "array1=array1.reshape(3,3)\n",
    "array2=np.array(range(9,18))\n",
    "array2=array1.reshape(3,3)"
   ]
  },
  {
   "cell_type": "code",
   "execution_count": 5,
   "id": "b69996d6-77e4-4d93-81c4-1c6b04358a7b",
   "metadata": {},
   "outputs": [
    {
     "name": "stdout",
     "output_type": "stream",
     "text": [
      "[[0 1 2]\n",
      " [3 4 5]\n",
      " [6 7 8]] [[0 1 2]\n",
      " [3 4 5]\n",
      " [6 7 8]]\n"
     ]
    }
   ],
   "source": [
    "print(array1,array2)"
   ]
  },
  {
   "cell_type": "raw",
   "id": "7d3f507a-e54f-4bfe-8e8f-ebd48c015d8a",
   "metadata": {},
   "source": []
  },
  {
   "cell_type": "code",
   "execution_count": null,
   "id": "502e39e3-64bf-401d-aa64-c6b4e612c477",
   "metadata": {},
   "outputs": [],
   "source": [
    "rows=input(\"Enter the Number of Rows\\n\")\n",
    "columns=input(\"Enter Number of Columns\\n\")\n",
    "array3=[[int(input()) for i in range(int(columns))]for i in range(int(rows))]"
   ]
  },
  {
   "cell_type": "code",
   "execution_count": 11,
   "id": "94825fbc-9a04-4daa-ba40-a688badeed16",
   "metadata": {},
   "outputs": [
    {
     "name": "stdout",
     "output_type": "stream",
     "text": [
      "[[ 0  2  4]\n",
      " [ 6  8 10]\n",
      " [12 14 16]]\n"
     ]
    }
   ],
   "source": [
    "result=[]\n",
    "for r in range(3):\n",
    "    temp=[]\n",
    "    for c in range(3):\n",
    "        temp.append(array1[r][c]+array2[r][c])\n",
    "    result.append(temp)\n",
    "print(np.array(result))"
   ]
  },
  {
   "cell_type": "code",
   "execution_count": 37,
   "id": "ae951244-eb35-4471-a354-3f8116436f53",
   "metadata": {},
   "outputs": [
    {
     "name": "stdout",
     "output_type": "stream",
     "text": [
      "[[ 0  2  4]\n",
      " [ 6  8 10]\n",
      " [12 14 16]]\n"
     ]
    }
   ],
   "source": [
    "result=np.array([0]*9)\n",
    "result=result.reshape(3,3)\n",
    "for r in range(3):\n",
    "    for c in range(3):\n",
    "        result[r][c]=array1[r][c]+array2[r][c]\n",
    "print(np.array(result))"
   ]
  },
  {
   "cell_type": "code",
   "execution_count": 45,
   "id": "194a5dd7-1da5-4bd2-be41-89801036c664",
   "metadata": {},
   "outputs": [
    {
     "name": "stdin",
     "output_type": "stream",
     "text": [
      "Mutiply with: 10\n"
     ]
    },
    {
     "name": "stdout",
     "output_type": "stream",
     "text": [
      "[[ 0  1  4]\n",
      " [ 0  4 10]\n",
      " [ 0  7 16]]\n"
     ]
    }
   ],
   "source": [
    "result=np.array([0]*9)\n",
    "result=result.reshape(3,3)\n",
    "for r in range(3):\n",
    "    for c in range(3):\n",
    "        result[r][c]=c*array1[r][c]\n",
    "print(np.array(result))"
   ]
  },
  {
   "cell_type": "code",
   "execution_count": null,
   "id": "687a68ad-f145-4a24-8d4e-610c71dd6843",
   "metadata": {},
   "outputs": [],
   "source": []
  }
 ],
 "metadata": {
  "kernelspec": {
   "display_name": "Python 3 (ipykernel)",
   "language": "python",
   "name": "python3"
  },
  "language_info": {
   "codemirror_mode": {
    "name": "ipython",
    "version": 3
   },
   "file_extension": ".py",
   "mimetype": "text/x-python",
   "name": "python",
   "nbconvert_exporter": "python",
   "pygments_lexer": "ipython3",
   "version": "3.11.5"
  }
 },
 "nbformat": 4,
 "nbformat_minor": 5
}
