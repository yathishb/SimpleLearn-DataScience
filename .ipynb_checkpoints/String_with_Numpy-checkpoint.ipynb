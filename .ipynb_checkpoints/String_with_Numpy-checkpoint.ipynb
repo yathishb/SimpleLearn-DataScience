{
 "cells": [
  {
   "cell_type": "markdown",
   "id": "297b13dd-7cbf-45d9-99b8-67c4443cab79",
   "metadata": {},
   "source": [
    "<h1> String Operations Using Numpy </h1>"
   ]
  },
  {
   "cell_type": "code",
   "execution_count": 4,
   "id": "4c5d20de-7fec-4dac-8171-816335daf174",
   "metadata": {},
   "outputs": [],
   "source": [
    "import numpy as np"
   ]
  },
  {
   "cell_type": "code",
   "execution_count": 14,
   "id": "40a2d619-6437-4f1f-913a-79ac78b78376",
   "metadata": {},
   "outputs": [
    {
     "name": "stdout",
     "output_type": "stream",
     "text": [
      "['Hello Latha' 'Hello Yathish']\n"
     ]
    }
   ],
   "source": [
    "a = np.array([\"Hello \"])\n",
    "b = np.array([\"Latha\",\"Yathish\"])\n",
    "print(np.char.add(a,b))"
   ]
  },
  {
   "cell_type": "code",
   "execution_count": 22,
   "id": "d218d712-c5df-441e-a412-97f3c3a7d19f",
   "metadata": {},
   "outputs": [
    {
     "name": "stdout",
     "output_type": "stream",
     "text": [
      "['Hello My Name is Yathish']\n",
      "['Hello My Name is Latha']\n"
     ]
    }
   ],
   "source": [
    "a = np.array([\"Hello My Name is Yathish\"])\n",
    "print(a)\n",
    "print(np.char.replace(a,\"Yathish\",\"Latha\"))"
   ]
  },
  {
   "cell_type": "markdown",
   "id": "b9e6326a-2d79-4e9c-b673-a19f1be55537",
   "metadata": {},
   "source": [
    "# Lowercase to Uppercase and ViceVersa"
   ]
  },
  {
   "cell_type": "code",
   "execution_count": 39,
   "id": "418de25d-0a5e-486f-a321-168a1f572d3e",
   "metadata": {},
   "outputs": [
    {
     "name": "stdout",
     "output_type": "stream",
     "text": [
      "Lowercase: ['hello my name is yathish']\n",
      "Uppercase: ['HELLO MY NAME IS YATHISH']\n",
      "Capitalize: ['Hello my name is yathish']\n",
      "Capitalize: ['Hello My Name Is Yathish']\n"
     ]
    }
   ],
   "source": [
    "a = np.array([\"Hello My Name is Yathish\"])\n",
    "print(\"Lowercase:\",np.char.lower(a))\n",
    "print(\"Uppercase:\",np.char.upper(a))\n",
    "print(\"Capitalize:\",np.char.capitalize(a))\n",
    "print(\"Title:\",np.char.title(a))"
   ]
  },
  {
   "cell_type": "code",
   "execution_count": null,
   "id": "10476783-d972-440e-ae0a-7ee6e927d263",
   "metadata": {},
   "outputs": [],
   "source": []
  }
 ],
 "metadata": {
  "kernelspec": {
   "display_name": "Python 3 (ipykernel)",
   "language": "python",
   "name": "python3"
  },
  "language_info": {
   "codemirror_mode": {
    "name": "ipython",
    "version": 3
   },
   "file_extension": ".py",
   "mimetype": "text/x-python",
   "name": "python",
   "nbconvert_exporter": "python",
   "pygments_lexer": "ipython3",
   "version": "3.11.5"
  }
 },
 "nbformat": 4,
 "nbformat_minor": 5
}
