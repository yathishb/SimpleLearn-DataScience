{
 "cells": [
  {
   "cell_type": "code",
   "execution_count": 3,
   "id": "04442c63-438f-4622-8242-4fd1dfa17346",
   "metadata": {},
   "outputs": [],
   "source": [
    "import numpy as np"
   ]
  },
  {
   "cell_type": "code",
   "execution_count": 21,
   "id": "1dbb96e0-c6f4-4e17-b88a-ed59c0f3f053",
   "metadata": {},
   "outputs": [
    {
     "name": "stdout",
     "output_type": "stream",
     "text": [
      "No of Dimenstions:2\n",
      "Shape:(2, 3)\n",
      "Size:6\n",
      "Array DataType:int64\n",
      "Total Bytes:8\n",
      "Data:<memory at 0x106766b50>\n"
     ]
    }
   ],
   "source": [
    "arr=np.array([[1,2,3],[4,5,6]])\n",
    "print('No of Dimenstions:{}\\nShape:{}\\nSize:{}\\nArray DataType:{}\\nTotal Bytes:{}\\nData:{}'.format(arr.ndim,arr.shape,arr.size,arr.dtype,arr.itemsize,arr.data))"
   ]
  },
  {
   "cell_type": "code",
   "execution_count": 17,
   "id": "0db1e41c-f48f-4f85-b736-c000c572ab5c",
   "metadata": {},
   "outputs": [
    {
     "name": "stdout",
     "output_type": "stream",
     "text": [
      "Access Numpy Data\n",
      "Items: 1\n",
      "Items: 2\n",
      "Items: 3\n",
      "Items: 4\n",
      "Items: 5\n",
      "Items: 6\n"
     ]
    }
   ],
   "source": [
    "print(\"Access Numpy Data\")\n",
    "for i in range(arr.shape[0]):\n",
    "    for j in range(arr.shape[1]):\n",
    "        print(\"Items:\",arr[i][j])"
   ]
  },
  {
   "cell_type": "code",
   "execution_count": 51,
   "id": "e4239dd6-e85b-413e-ac78-248a793f4a9b",
   "metadata": {},
   "outputs": [
    {
     "name": "stdout",
     "output_type": "stream",
     "text": [
      "Re-Shaping the Array\n",
      "\n",
      "[[ 0  1  2  3]\n",
      " [ 4  5  6  7]\n",
      " [ 8  9 10 11]] \n",
      "\n",
      "Reshaping 4d Array:\n",
      "\n",
      " [[ 0  1  2]\n",
      " [ 3  4  5]\n",
      " [ 6  7  8]\n",
      " [ 9 10 11]]\n"
     ]
    }
   ],
   "source": [
    "print(\"Re-Shaping the Array\\n\")\n",
    "arr=np.array(range(12))\n",
    "arr=arr.reshape(3,4)\n",
    "print(arr,\"\\n\")\n",
    "print(\"Reshaping 4d Array:\\n\\n\",arr.reshape(4,3))"
   ]
  },
  {
   "cell_type": "code",
   "execution_count": 59,
   "id": "3c9b2e81-1beb-42f7-83a0-07713b050da2",
   "metadata": {},
   "outputs": [
    {
     "name": "stdout",
     "output_type": "stream",
     "text": [
      "Converting the Array to 1D\n",
      "Before Flatterning\n",
      "[[ 0  1  2]\n",
      " [ 3  4  5]\n",
      " [ 6  7  8]\n",
      " [ 9 10 11]]\n",
      "After Flatterning\n",
      "[ 0  1  2  3  4  5  6  7  8  9 10 11]\n"
     ]
    }
   ],
   "source": [
    "print(\"Converting the Array to 1D\")\n",
    "arr=arr.reshape(4,3)\n",
    "print(\"Before Flatterning\")\n",
    "print(arr)\n",
    "print(\"After Flatterning\")\n",
    "print(arr.flatten())"
   ]
  },
  {
   "cell_type": "code",
   "execution_count": 71,
   "id": "c2a43dd8-3e32-42ec-958a-1b815e769e0a",
   "metadata": {},
   "outputs": [
    {
     "name": "stdout",
     "output_type": "stream",
     "text": [
      "Transpose an Array\n",
      "Before Transpose\n",
      "[[ 0  1  2]\n",
      " [ 3  4  5]\n",
      " [ 6  7  8]\n",
      " [ 9 10 11]] (4, 3)\n",
      "After Transpose\n",
      "[[ 0  3  6  9]\n",
      " [ 1  4  7 10]\n",
      " [ 2  5  8 11]] (3, 4)\n"
     ]
    }
   ],
   "source": [
    "print(\"Transpose an Array\")\n",
    "arr=arr.reshape(4,3)\n",
    "print(\"Before Transpose\")\n",
    "print(arr,arr.shape)\n",
    "print(\"After Transpose\")\n",
    "arr=arr.transpose()\n",
    "print(arr,arr.shape)"
   ]
  },
  {
   "cell_type": "code",
   "execution_count": null,
   "id": "ff3d8a38-1a6f-4254-b8c8-cb07b76276a3",
   "metadata": {},
   "outputs": [],
   "source": []
  }
 ],
 "metadata": {
  "kernelspec": {
   "display_name": "Python 3 (ipykernel)",
   "language": "python",
   "name": "python3"
  },
  "language_info": {
   "codemirror_mode": {
    "name": "ipython",
    "version": 3
   },
   "file_extension": ".py",
   "mimetype": "text/x-python",
   "name": "python",
   "nbconvert_exporter": "python",
   "pygments_lexer": "ipython3",
   "version": "3.11.5"
  }
 },
 "nbformat": 4,
 "nbformat_minor": 5
}
