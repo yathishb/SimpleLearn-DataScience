{
 "cells": [
  {
   "cell_type": "code",
   "execution_count": 33,
   "id": "067f12bc-6d21-4722-9edc-cf17018fecf5",
   "metadata": {},
   "outputs": [],
   "source": [
    "##Arithematic Operations Using Numpy"
   ]
  },
  {
   "cell_type": "code",
   "execution_count": null,
   "id": "a9a1dc47-9808-41ca-a0a6-62d2cbabf73c",
   "metadata": {},
   "outputs": [],
   "source": [
    "import numpy as np"
   ]
  },
  {
   "cell_type": "code",
   "execution_count": 29,
   "id": "914c369f-2fa8-428c-91f7-d5062587242a",
   "metadata": {},
   "outputs": [
    {
     "name": "stdout",
     "output_type": "stream",
     "text": [
      "a: [0 1 2 3 4]\n",
      "b: [5 6 7 8 9]\n",
      "sum: [ 5  7  9 11 13]\n"
     ]
    }
   ],
   "source": [
    "a = np.array(range(5))\n",
    "b = np.array(range(5,11))\n",
    "print(\"a:\",a)\n",
    "print(\"b:\",b)\n",
    "sum_of_np_arrays = np.add(a,b)\n",
    "print(\"sum:\",sum_of_np_arrays)"
   ]
  },
  {
   "cell_type": "code",
   "execution_count": null,
   "id": "743c4f5a-1808-4112-87ab-248acba3ebf7",
   "metadata": {},
   "outputs": [],
   "source": []
  }
 ],
 "metadata": {
  "kernelspec": {
   "display_name": "Python 3 (ipykernel)",
   "language": "python",
   "name": "python3"
  },
  "language_info": {
   "codemirror_mode": {
    "name": "ipython",
    "version": 3
   },
   "file_extension": ".py",
   "mimetype": "text/x-python",
   "name": "python",
   "nbconvert_exporter": "python",
   "pygments_lexer": "ipython3",
   "version": "3.11.5"
  }
 },
 "nbformat": 4,
 "nbformat_minor": 5
}
