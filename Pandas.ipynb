{
 "cells": [
  {
   "cell_type": "code",
   "execution_count": 10,
   "id": "34ba7a04-1cb2-439e-afcc-51721433a981",
   "metadata": {},
   "outputs": [],
   "source": [
    "import pandas as pd"
   ]
  },
  {
   "cell_type": "markdown",
   "id": "d253cb4a-aaf2-46c2-a89f-334616f43a42",
   "metadata": {},
   "source": [
    "### Date and Time Delta"
   ]
  },
  {
   "cell_type": "code",
   "execution_count": 64,
   "id": "349a2d95-2289-469d-a2ac-ba0fbe2e97e9",
   "metadata": {},
   "outputs": [
    {
     "name": "stdout",
     "output_type": "stream",
     "text": [
      "         date\n",
      "0  2023-01-01\n",
      "1  2022-01-01\n",
      "2  2023-02-15\n",
      "3  2023-03-24\n"
     ]
    }
   ],
   "source": [
    "data={\"date\":['2023-01-01','2022-01-01','2023-02-15','2023-03-24']}\n",
    "df=pd.DataFrame(data)\n",
    "print(df)"
   ]
  },
  {
   "cell_type": "code",
   "execution_count": 62,
   "id": "49b00780-7822-4ef7-bebb-6b928700aec4",
   "metadata": {},
   "outputs": [
    {
     "name": "stdout",
     "output_type": "stream",
     "text": [
      "0   2023-01-01\n",
      "1   2022-01-01\n",
      "2   2023-02-15\n",
      "3   2023-03-24\n",
      "Name: date, dtype: datetime64[ns]\n",
      "0     1\n",
      "1     1\n",
      "2    15\n",
      "3    24\n",
      "Name: day, dtype: int32\n",
      "0    1\n",
      "1    1\n",
      "2    2\n",
      "3    3\n",
      "Name: month, dtype: int32\n",
      "0    2023\n",
      "1    2022\n",
      "2    2023\n",
      "3    2023\n",
      "Name: year, dtype: int32\n"
     ]
    }
   ],
   "source": [
    "df['date']=pd.to_datetime(df['date'])\n",
    "df['day']=df['date'].dt.day\n",
    "df['month']=df['date'].dt.month\n",
    "df['year']=df['date'].dt.year\n",
    "print(\"{}\\n{}\\n{}\\n{}\".format(df['date'],df['day'],df['month'],df['year']))"
   ]
  },
  {
   "cell_type": "code",
   "execution_count": 88,
   "id": "3297e678-b317-48af-8063-2e25e1eceef7",
   "metadata": {},
   "outputs": [
    {
     "name": "stdout",
     "output_type": "stream",
     "text": [
      "        Date  Weekday  Weekend\n",
      "0 2024-01-01        0    False\n",
      "1 2024-01-02        1    False\n",
      "2 2024-01-03        2    False\n",
      "3 2024-01-04        3    False\n",
      "4 2024-01-05        4    False\n",
      "5 2024-01-06        5     True\n",
      "6 2024-01-07        6    False\n"
     ]
    }
   ],
   "source": [
    "## Extracting Weekdays information \n",
    "df=pd.DataFrame({'Date':pd.date_range(start='2024-01-01',periods=7)})\n",
    "df['Weekday']=df['Date'].dt.weekday\n",
    "df['Weekend']=(df['Date'].dt.weekday / 5 == 1) # Print Wheather the day is weekday or weekend\n",
    "print(df)"
   ]
  },
  {
   "cell_type": "code",
   "execution_count": null,
   "id": "e08e713e-fd60-47b1-a317-739dc3bb709b",
   "metadata": {},
   "outputs": [],
   "source": []
  }
 ],
 "metadata": {
  "kernelspec": {
   "display_name": "Python 3 (ipykernel)",
   "language": "python",
   "name": "python3"
  },
  "language_info": {
   "codemirror_mode": {
    "name": "ipython",
    "version": 3
   },
   "file_extension": ".py",
   "mimetype": "text/x-python",
   "name": "python",
   "nbconvert_exporter": "python",
   "pygments_lexer": "ipython3",
   "version": "3.11.5"
  }
 },
 "nbformat": 4,
 "nbformat_minor": 5
}
