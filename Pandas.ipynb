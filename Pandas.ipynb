{
 "cells": [
  {
   "cell_type": "code",
   "execution_count": 10,
   "id": "34ba7a04-1cb2-439e-afcc-51721433a981",
   "metadata": {},
   "outputs": [],
   "source": [
    "import pandas as pd"
   ]
  },
  {
   "cell_type": "markdown",
   "id": "d253cb4a-aaf2-46c2-a89f-334616f43a42",
   "metadata": {},
   "source": [
    "### Date and Time Delta"
   ]
  },
  {
   "cell_type": "code",
   "execution_count": 64,
   "id": "349a2d95-2289-469d-a2ac-ba0fbe2e97e9",
   "metadata": {},
   "outputs": [
    {
     "name": "stdout",
     "output_type": "stream",
     "text": [
      "         date\n",
      "0  2023-01-01\n",
      "1  2022-01-01\n",
      "2  2023-02-15\n",
      "3  2023-03-24\n"
     ]
    }
   ],
   "source": [
    "data={\"date\":['2023-01-01','2022-01-01','2023-02-15','2023-03-24']}\n",
    "df=pd.DataFrame(data)\n",
    "print(df)"
   ]
  },
  {
   "cell_type": "code",
   "execution_count": 62,
   "id": "49b00780-7822-4ef7-bebb-6b928700aec4",
   "metadata": {},
   "outputs": [
    {
     "name": "stdout",
     "output_type": "stream",
     "text": [
      "0   2023-01-01\n",
      "1   2022-01-01\n",
      "2   2023-02-15\n",
      "3   2023-03-24\n",
      "Name: date, dtype: datetime64[ns]\n",
      "0     1\n",
      "1     1\n",
      "2    15\n",
      "3    24\n",
      "Name: day, dtype: int32\n",
      "0    1\n",
      "1    1\n",
      "2    2\n",
      "3    3\n",
      "Name: month, dtype: int32\n",
      "0    2023\n",
      "1    2022\n",
      "2    2023\n",
      "3    2023\n",
      "Name: year, dtype: int32\n"
     ]
    }
   ],
   "source": [
    "df['date']=pd.to_datetime(df['date'])\n",
    "df['day']=df['date'].dt.day\n",
    "df['month']=df['date'].dt.month\n",
    "df['year']=df['date'].dt.year\n",
    "print(\"{}\\n{}\\n{}\\n{}\".format(df['date'],df['day'],df['month'],df['year']))"
   ]
  },
  {
   "cell_type": "code",
   "execution_count": 118,
   "id": "3297e678-b317-48af-8063-2e25e1eceef7",
   "metadata": {},
   "outputs": [
    {
     "name": "stdout",
     "output_type": "stream",
     "text": [
      "        Date  Weekday  IsWeekend  IsWeekday\n",
      "0 2024-01-01        0      False       True\n",
      "1 2024-01-02        1      False       True\n",
      "2 2024-01-03        2      False       True\n",
      "3 2024-01-04        3      False       True\n",
      "4 2024-01-05        4      False       True\n",
      "5 2024-01-06        5       True      False\n",
      "6 2024-01-07        6       True      False\n",
      "7 2024-01-08        0      False       True\n",
      "8 2024-01-09        1      False       True\n",
      "9 2024-01-10        2      False       True\n"
     ]
    }
   ],
   "source": [
    "## Extracting Weekdays information \n",
    "df=pd.DataFrame({'Date':pd.date_range(start='2024-01-01',periods=10)})\n",
    "df['Weekday']=df['Date'].dt.weekday\n",
    "df['IsWeekend']=df['Date'].dt.weekday // 5 == 1 # Print Wheather the day is weekday or weekend\n",
    "df['IsWeekday']=(df['Date'].dt.weekday / 5 < 1)\n",
    "print(df)"
   ]
  },
  {
   "cell_type": "code",
   "execution_count": 112,
   "id": "e08e713e-fd60-47b1-a317-739dc3bb709b",
   "metadata": {},
   "outputs": [
    {
     "name": "stdout",
     "output_type": "stream",
     "text": [
      "        Date  Weekday  IsWeekend  IsWeekday PreviousDate    NxtDate\n",
      "0 2024-01-01        0      False       True   2023-12-31 2024-01-02\n",
      "1 2024-01-02        1      False       True   2024-01-01 2024-01-03\n",
      "2 2024-01-03        2      False       True   2024-01-02 2024-01-04\n",
      "3 2024-01-04        3      False       True   2024-01-03 2024-01-05\n",
      "4 2024-01-05        4      False       True   2024-01-04 2024-01-06\n",
      "5 2024-01-06        5       True      False   2024-01-05 2024-01-07\n",
      "6 2024-01-07        6       True      False   2024-01-06 2024-01-08\n",
      "7 2024-01-08        0      False       True   2024-01-07 2024-01-09\n",
      "8 2024-01-09        1      False       True   2024-01-08 2024-01-10\n",
      "9 2024-01-10        2      False       True   2024-01-09 2024-01-11\n"
     ]
    }
   ],
   "source": [
    "df['PreviousDate']=df['Date']-pd.Timedelta(days=1)\n",
    "df['NxtDate']=df['Date']+pd.Timedelta(days=1)\n",
    "print(df)"
   ]
  },
  {
   "cell_type": "code",
   "execution_count": 170,
   "id": "a7b687b6-7d7f-4221-9bd3-cd9e40c7f052",
   "metadata": {},
   "outputs": [
    {
     "name": "stdout",
     "output_type": "stream",
     "text": [
      "        data  Value1  Value2\n",
      "0 2023-01-01       0      10\n",
      "1 2023-01-02       1      11\n",
      "2 2023-01-03       2      12\n",
      "3 2023-01-04       3      13\n",
      "4 2023-01-05       4      14\n",
      "5 2023-01-06       5      15\n",
      "6 2023-01-07       6      16\n",
      "7 2023-01-08       7      17\n",
      "8 2023-01-09       8      18\n",
      "9 2023-01-10       9      19\n"
     ]
    }
   ],
   "source": [
    "# Create DataFrame with Time Based Data\n",
    "data={'data':pd.date_range(start='2023-01-01',periods=10,freq='D'),'Value1':range(10),'Value2':range(10,20)}\n",
    "# Freq Can be changed to H -> Hour , M -> Month , Min -> Min , Date -> Date\n",
    "df=pd.DataFrame(data)\n",
    "print(df)"
   ]
  },
  {
   "cell_type": "code",
   "execution_count": 172,
   "id": "b1ddab5a-4199-4300-af97-febb6855cad1",
   "metadata": {},
   "outputs": [
    {
     "name": "stdout",
     "output_type": "stream",
     "text": [
      "        data  Value1  Value2\n",
      "0 2023-01-04       0      10\n",
      "1 2023-01-05       1      11\n",
      "2 2023-01-06       2      12\n",
      "3 2023-01-07       3      13\n",
      "4 2023-01-08       4      14\n",
      "5 2023-01-09       5      15\n",
      "6 2023-01-10       6      16\n",
      "7 2023-01-11       7      17\n",
      "8 2023-01-12       8      18\n",
      "9 2023-01-13       9      19\n"
     ]
    }
   ],
   "source": [
    "delta=pd.Timedelta(days=3)\n",
    "# Adding 3 days to dataframe\n",
    "df['data'] = df['data']+delta\n",
    "print(df)"
   ]
  },
  {
   "cell_type": "code",
   "execution_count": 182,
   "id": "771f3fc8-3c2b-4e19-bc37-5208cd5dc9dc",
   "metadata": {},
   "outputs": [
    {
     "name": "stdout",
     "output_type": "stream",
     "text": [
      "                 data  Value1  Value2         Updateddata\n",
      "0 2023-04-10 21:42:00       0      10 2023-04-14 00:44:00\n",
      "1 2023-04-11 21:42:00       1      11 2023-04-15 00:44:00\n",
      "2 2023-04-12 21:42:00       2      12 2023-04-16 00:44:00\n",
      "3 2023-04-13 21:42:00       3      13 2023-04-17 00:44:00\n",
      "4 2023-04-14 21:42:00       4      14 2023-04-18 00:44:00\n",
      "5 2023-04-15 21:42:00       5      15 2023-04-19 00:44:00\n",
      "6 2023-04-16 21:42:00       6      16 2023-04-20 00:44:00\n",
      "7 2023-04-17 21:42:00       7      17 2023-04-21 00:44:00\n",
      "8 2023-04-18 21:42:00       8      18 2023-04-22 00:44:00\n",
      "9 2023-04-19 21:42:00       9      19 2023-04-23 00:44:00\n"
     ]
    }
   ],
   "source": [
    "delta=pd.Timedelta(days=3,hours=3,minutes=2)\n",
    "# Adding 3 days,3 hours, 2 mins to dataframe\n",
    "df['Updateddata'] = df['data']+delta\n",
    "print(df)"
   ]
  },
  {
   "cell_type": "code",
   "execution_count": 216,
   "id": "8b75562c-aba0-4a24-ad74-46301523add3",
   "metadata": {},
   "outputs": [
    {
     "name": "stdout",
     "output_type": "stream",
     "text": [
      "                     Value2\n",
      "Updateddata                \n",
      "2023-04-14 00:44:00      10\n",
      "2023-04-15 00:44:00      11\n",
      "2023-04-16 00:44:00      12\n",
      "2023-04-17 00:44:00      13\n",
      "2023-04-18 00:44:00      14\n",
      "2023-04-19 00:44:00      15\n",
      "2023-04-20 00:44:00      16\n",
      "2023-04-21 00:44:00      17\n",
      "2023-04-22 00:44:00      18\n",
      "2023-04-23 00:44:00      19\n"
     ]
    },
    {
     "ename": "KeyError",
     "evalue": "\"None of ['data'] are in the columns\"",
     "output_type": "error",
     "traceback": [
      "\u001b[0;31m---------------------------------------------------------------------------\u001b[0m",
      "\u001b[0;31mKeyError\u001b[0m                                  Traceback (most recent call last)",
      "\u001b[0;32m/var/folders/6y/_ck8h2f17c50br227jyj18800000gn/T/ipykernel_17000/2898602106.py\u001b[0m in \u001b[0;36m?\u001b[0;34m()\u001b[0m\n\u001b[1;32m      1\u001b[0m \u001b[0;31m# Resampling Time Series data\u001b[0m\u001b[0;34m\u001b[0m\u001b[0;34m\u001b[0m\u001b[0m\n\u001b[1;32m      2\u001b[0m \u001b[0mprint\u001b[0m\u001b[0;34m(\u001b[0m\u001b[0mdf\u001b[0m\u001b[0;34m)\u001b[0m\u001b[0;34m\u001b[0m\u001b[0;34m\u001b[0m\u001b[0m\n\u001b[0;32m----> 3\u001b[0;31m \u001b[0mdf\u001b[0m\u001b[0;34m.\u001b[0m\u001b[0mset_index\u001b[0m\u001b[0;34m(\u001b[0m\u001b[0;34m'data'\u001b[0m\u001b[0;34m,\u001b[0m\u001b[0minplace\u001b[0m\u001b[0;34m=\u001b[0m\u001b[0;32mTrue\u001b[0m\u001b[0;34m)\u001b[0m\u001b[0;34m\u001b[0m\u001b[0;34m\u001b[0m\u001b[0m\n\u001b[0m\u001b[1;32m      4\u001b[0m \u001b[0mdf_resampled\u001b[0m\u001b[0;34m=\u001b[0m\u001b[0mdf\u001b[0m\u001b[0;34m.\u001b[0m\u001b[0mselect_dtypes\u001b[0m\u001b[0;34m(\u001b[0m\u001b[0minclude\u001b[0m\u001b[0;34m=\u001b[0m\u001b[0;34m'number'\u001b[0m\u001b[0;34m)\u001b[0m\u001b[0;34m.\u001b[0m\u001b[0mresample\u001b[0m\u001b[0;34m(\u001b[0m\u001b[0;34m'D'\u001b[0m\u001b[0;34m)\u001b[0m\u001b[0;34m.\u001b[0m\u001b[0msum\u001b[0m\u001b[0;34m(\u001b[0m\u001b[0;34m)\u001b[0m\u001b[0;34m\u001b[0m\u001b[0;34m\u001b[0m\u001b[0m\n\u001b[1;32m      5\u001b[0m \u001b[0mprint\u001b[0m\u001b[0;34m(\u001b[0m\u001b[0mdf_resampled\u001b[0m\u001b[0;34m)\u001b[0m\u001b[0;34m\u001b[0m\u001b[0;34m\u001b[0m\u001b[0m\n",
      "\u001b[0;32m~/anaconda3/lib/python3.11/site-packages/pandas/core/frame.py\u001b[0m in \u001b[0;36m?\u001b[0;34m(self, keys, drop, append, inplace, verify_integrity)\u001b[0m\n\u001b[1;32m   5855\u001b[0m                     \u001b[0;32mif\u001b[0m \u001b[0;32mnot\u001b[0m \u001b[0mfound\u001b[0m\u001b[0;34m:\u001b[0m\u001b[0;34m\u001b[0m\u001b[0;34m\u001b[0m\u001b[0m\n\u001b[1;32m   5856\u001b[0m                         \u001b[0mmissing\u001b[0m\u001b[0;34m.\u001b[0m\u001b[0mappend\u001b[0m\u001b[0;34m(\u001b[0m\u001b[0mcol\u001b[0m\u001b[0;34m)\u001b[0m\u001b[0;34m\u001b[0m\u001b[0;34m\u001b[0m\u001b[0m\n\u001b[1;32m   5857\u001b[0m \u001b[0;34m\u001b[0m\u001b[0m\n\u001b[1;32m   5858\u001b[0m         \u001b[0;32mif\u001b[0m \u001b[0mmissing\u001b[0m\u001b[0;34m:\u001b[0m\u001b[0;34m\u001b[0m\u001b[0;34m\u001b[0m\u001b[0m\n\u001b[0;32m-> 5859\u001b[0;31m             \u001b[0;32mraise\u001b[0m \u001b[0mKeyError\u001b[0m\u001b[0;34m(\u001b[0m\u001b[0;34mf\"None of {missing} are in the columns\"\u001b[0m\u001b[0;34m)\u001b[0m\u001b[0;34m\u001b[0m\u001b[0;34m\u001b[0m\u001b[0m\n\u001b[0m\u001b[1;32m   5860\u001b[0m \u001b[0;34m\u001b[0m\u001b[0m\n\u001b[1;32m   5861\u001b[0m         \u001b[0;32mif\u001b[0m \u001b[0minplace\u001b[0m\u001b[0;34m:\u001b[0m\u001b[0;34m\u001b[0m\u001b[0;34m\u001b[0m\u001b[0m\n\u001b[1;32m   5862\u001b[0m             \u001b[0mframe\u001b[0m \u001b[0;34m=\u001b[0m \u001b[0mself\u001b[0m\u001b[0;34m\u001b[0m\u001b[0;34m\u001b[0m\u001b[0m\n",
      "\u001b[0;31mKeyError\u001b[0m: \"None of ['data'] are in the columns\""
     ]
    }
   ],
   "source": [
    "# Resampling Time Series data\n",
    "df.set_index('data',inplace=True)\n",
    "df_resampled=df.select_dtypes(include='number').resample('D').sum()\n",
    "print(df_resampled)"
   ]
  },
  {
   "cell_type": "markdown",
   "id": "c4caf2e3-1643-490c-b30c-ad65fd4b998d",
   "metadata": {},
   "source": [
    "###Creating Categorical variables"
   ]
  },
  {
   "cell_type": "code",
   "execution_count": 253,
   "id": "fa43c573-6135-421b-ab23-174402891ddf",
   "metadata": {},
   "outputs": [
    {
     "name": "stdout",
     "output_type": "stream",
     "text": [
      "['Low', 'Low', 'Low', 'Medium', 'High', 'Medium']\n",
      "Categories (3, object): ['High' < 'Low' < 'Medium']\n"
     ]
    }
   ],
   "source": [
    "categories=['Low','Medium','High']\n",
    "values=['Low','Low','Low','Medium','High','Medium']\n",
    "cat_variable=pd.Categorical(values,categories=categories,ordered=True)\n",
    "print(cat_variable)"
   ]
  },
  {
   "cell_type": "code",
   "execution_count": 243,
   "id": "9b16e985-0e7f-45af-9784-023237cf1a7a",
   "metadata": {},
   "outputs": [
    {
     "name": "stdout",
     "output_type": "stream",
     "text": [
      "Category\n",
      "A    3\n",
      "B    2\n",
      "C    1\n",
      "D    1\n",
      "F    1\n",
      "Name: count, dtype: int64\n"
     ]
    }
   ],
   "source": [
    "# Counting Occurrences of each Category\n",
    "df=pd.DataFrame({'Category':['A','B','C','D','A','F','A','B']})\n",
    "count=df['Category'].value_counts()\n",
    "print(count)"
   ]
  },
  {
   "cell_type": "code",
   "execution_count": 245,
   "id": "8889456b-c3d6-49d2-b166-56f68b2ab69e",
   "metadata": {},
   "outputs": [
    {
     "name": "stdout",
     "output_type": "stream",
     "text": [
      "   column_A  column_B  column_C  column_D  column_F\n",
      "0      True     False     False     False     False\n",
      "1     False      True     False     False     False\n",
      "2     False     False      True     False     False\n",
      "3     False     False     False      True     False\n",
      "4      True     False     False     False     False\n",
      "5     False     False     False     False      True\n",
      "6      True     False     False     False     False\n",
      "7     False      True     False     False     False\n"
     ]
    }
   ],
   "source": [
    "df=pd.DataFrame({'Category':['A','B','C','D','A','F','A','B']})\n",
    "category=pd.get_dummies(df['Category'],prefix=\"column\")\n",
    "print(category)"
   ]
  },
  {
   "cell_type": "code",
   "execution_count": null,
   "id": "479995bd-403c-4ea9-a652-c12c34aa7e3b",
   "metadata": {},
   "outputs": [],
   "source": []
  }
 ],
 "metadata": {
  "kernelspec": {
   "display_name": "Python 3 (ipykernel)",
   "language": "python",
   "name": "python3"
  },
  "language_info": {
   "codemirror_mode": {
    "name": "ipython",
    "version": 3
   },
   "file_extension": ".py",
   "mimetype": "text/x-python",
   "name": "python",
   "nbconvert_exporter": "python",
   "pygments_lexer": "ipython3",
   "version": "3.11.5"
  }
 },
 "nbformat": 4,
 "nbformat_minor": 5
}
