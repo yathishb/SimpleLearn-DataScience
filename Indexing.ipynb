{
 "cells": [
  {
   "cell_type": "markdown",
   "id": "247db45a-d717-48c8-a7a4-63350ca5d30c",
   "metadata": {},
   "source": [
    "<h1> Indexing </h1>"
   ]
  },
  {
   "cell_type": "code",
   "execution_count": 3,
   "id": "d577a11b-b7e0-43cc-905e-e2dedab6a2b3",
   "metadata": {},
   "outputs": [],
   "source": [
    "import numpy as np"
   ]
  },
  {
   "cell_type": "code",
   "execution_count": 55,
   "id": "59f0605f-63e5-4db7-9f1a-8d133283a565",
   "metadata": {},
   "outputs": [
    {
     "name": "stdout",
     "output_type": "stream",
     "text": [
      "Array:\n",
      " [[ 1  2  3]\n",
      " [ 4  5  6]\n",
      " [ 7  8  9]\n",
      " [10 11 12]\n",
      " [13 14 15]]\n",
      "\n",
      "Accessing 2D Array Elements\n",
      "Elements of Array at row 0:1\n",
      "Elements of Array at row 0:2\n",
      "Elements of Array at row 0:3\n",
      "Elements of Array at row 1:4\n",
      "Elements of Array at row 1:5\n",
      "Elements of Array at row 1:6\n",
      "Elements of Array at row 2:7\n",
      "Elements of Array at row 2:8\n",
      "Elements of Array at row 2:9\n",
      "Elements of Array at row 3:10\n",
      "Elements of Array at row 3:11\n",
      "Elements of Array at row 3:12\n",
      "Elements of Array at row 4:13\n",
      "Elements of Array at row 4:14\n",
      "Elements of Array at row 4:15\n",
      "\n",
      "Negative Indexing Example\n",
      "Element At Index (3,2): 12\n"
     ]
    }
   ],
   "source": [
    "array = np.array(range(1,16))\n",
    "array=array.reshape(5,3)\n",
    "print(\"Array:\\n\",array)\n",
    "print(\"\\nAccessing 2D Array Elements\")\n",
    "for i in range(array.shape[0]):\n",
    "    for j in range(array.shape[1]):\n",
    "        print(\"Elements of Array at row {}:{}\".format(i,array[i][j]))\n",
    "print(\"\\nNegative Indexing Example\")\n",
    "print(\"Element At Index ({},{}): {}\".format(3,2,array[-2][-1]))"
   ]
  },
  {
   "cell_type": "code",
   "execution_count": 57,
   "id": "f8111809-1a39-43f1-8ca9-1419f7219d0f",
   "metadata": {},
   "outputs": [
    {
     "name": "stdout",
     "output_type": "stream",
     "text": [
      "Array:\n",
      " [ 1  2  3  4  5  6  7  8  9 10 11 12 13 14 15]\n",
      "\n",
      "Accessing 1D Array Elements\n",
      "Elements of Array: 1\n",
      "Elements of Array: 2\n",
      "Elements of Array: 3\n",
      "Elements of Array: 4\n",
      "Elements of Array: 5\n",
      "Elements of Array: 6\n",
      "Elements of Array: 7\n",
      "Elements of Array: 8\n",
      "Elements of Array: 9\n",
      "Elements of Array: 10\n",
      "Elements of Array: 11\n",
      "Elements of Array: 12\n",
      "Elements of Array: 13\n",
      "Elements of Array: 14\n",
      "Elements of Array: 15\n"
     ]
    }
   ],
   "source": [
    "array = np.array(range(1,16))\n",
    "print(\"Array:\\n\",array)\n",
    "print(\"\\nAccessing 1D Array Elements\")\n",
    "for i in range(array.shape[0]):\n",
    "    print(\"Elements of Array:\",array[i])"
   ]
  },
  {
   "cell_type": "code",
   "execution_count": 79,
   "id": "8d6b36f2-184a-4e15-864b-7c2e1d795b3c",
   "metadata": {},
   "outputs": [
    {
     "ename": "TypeError",
     "evalue": "Field elements must be 2- or 3-tuples, got '[7, 8, 9]'",
     "output_type": "error",
     "traceback": [
      "\u001b[0;31m---------------------------------------------------------------------------\u001b[0m",
      "\u001b[0;31mTypeError\u001b[0m                                 Traceback (most recent call last)",
      "Cell \u001b[0;32mIn[79], line 1\u001b[0m\n\u001b[0;32m----> 1\u001b[0m array \u001b[38;5;241m=\u001b[39m np\u001b[38;5;241m.\u001b[39marray([[\u001b[38;5;241m1\u001b[39m,\u001b[38;5;241m2\u001b[39m,\u001b[38;5;241m3\u001b[39m],[\u001b[38;5;241m4\u001b[39m,\u001b[38;5;241m5\u001b[39m,\u001b[38;5;241m6\u001b[39m]],[[\u001b[38;5;241m7\u001b[39m,\u001b[38;5;241m8\u001b[39m,\u001b[38;5;241m9\u001b[39m],[\u001b[38;5;241m10\u001b[39m,\u001b[38;5;241m11\u001b[39m,\u001b[38;5;241m12\u001b[39m]])\n\u001b[1;32m      2\u001b[0m \u001b[38;5;28mprint\u001b[39m(\u001b[38;5;124m\"\u001b[39m\u001b[38;5;124m3D Array:\u001b[39m\u001b[38;5;124m\"\u001b[39m,array[\u001b[38;5;241m1\u001b[39m,\u001b[38;5;241m1\u001b[39m,\u001b[38;5;241m0\u001b[39m])\n",
      "\u001b[0;31mTypeError\u001b[0m: Field elements must be 2- or 3-tuples, got '[7, 8, 9]'"
     ]
    }
   ],
   "source": [
    "array = np.array([[[1,2,3],[4,5,6]],[[7,8,9],[10,11,12]])\n",
    "print(\"3D Array:\",array[1,1,0])"
   ]
  },
  {
   "cell_type": "code",
   "execution_count": null,
   "id": "e7d233e8-3105-435f-86a6-5622f8da56a6",
   "metadata": {},
   "outputs": [],
   "source": []
  }
 ],
 "metadata": {
  "kernelspec": {
   "display_name": "Python 3 (ipykernel)",
   "language": "python",
   "name": "python3"
  },
  "language_info": {
   "codemirror_mode": {
    "name": "ipython",
    "version": 3
   },
   "file_extension": ".py",
   "mimetype": "text/x-python",
   "name": "python",
   "nbconvert_exporter": "python",
   "pygments_lexer": "ipython3",
   "version": "3.11.5"
  }
 },
 "nbformat": 4,
 "nbformat_minor": 5
}
