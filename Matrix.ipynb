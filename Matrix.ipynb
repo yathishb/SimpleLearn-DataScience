{
 "cells": [
  {
   "cell_type": "code",
   "execution_count": 3,
   "id": "fef1205d-da44-49bd-b4fa-04472488443e",
   "metadata": {},
   "outputs": [],
   "source": [
    "import numpy as np\n",
    "import pandas as pd"
   ]
  },
  {
   "cell_type": "code",
   "execution_count": 3,
   "id": "603dc99c-01ea-440c-81da-8358b97edd94",
   "metadata": {},
   "outputs": [],
   "source": [
    "array1=np.array(range(0,9))\n",
    "array1=array1.reshape(3,3)\n",
    "array2=np.array(range(9,18))\n",
    "array2=array1.reshape(3,3)"
   ]
  },
  {
   "cell_type": "code",
   "execution_count": 5,
   "id": "b69996d6-77e4-4d93-81c4-1c6b04358a7b",
   "metadata": {},
   "outputs": [
    {
     "name": "stdout",
     "output_type": "stream",
     "text": [
      "[[0 1 2]\n",
      " [3 4 5]\n",
      " [6 7 8]] [[0 1 2]\n",
      " [3 4 5]\n",
      " [6 7 8]]\n"
     ]
    }
   ],
   "source": [
    "print(array1,array2)"
   ]
  },
  {
   "cell_type": "raw",
   "id": "7d3f507a-e54f-4bfe-8e8f-ebd48c015d8a",
   "metadata": {},
   "source": []
  },
  {
   "cell_type": "code",
   "execution_count": null,
   "id": "502e39e3-64bf-401d-aa64-c6b4e612c477",
   "metadata": {},
   "outputs": [],
   "source": [
    "rows=input(\"Enter the Number of Rows\\n\")\n",
    "columns=input(\"Enter Number of Columns\\n\")\n",
    "array3=[[int(input()) for i in range(int(columns))]for i in range(int(rows))]"
   ]
  },
  {
   "cell_type": "code",
   "execution_count": 11,
   "id": "94825fbc-9a04-4daa-ba40-a688badeed16",
   "metadata": {},
   "outputs": [
    {
     "name": "stdout",
     "output_type": "stream",
     "text": [
      "[[ 0  2  4]\n",
      " [ 6  8 10]\n",
      " [12 14 16]]\n"
     ]
    }
   ],
   "source": [
    "result=[]\n",
    "for r in range(3):\n",
    "    temp=[]\n",
    "    for c in range(3):\n",
    "        temp.append(array1[r][c]+array2[r][c])\n",
    "    result.append(temp)\n",
    "print(np.array(result))"
   ]
  },
  {
   "cell_type": "code",
   "execution_count": 37,
   "id": "ae951244-eb35-4471-a354-3f8116436f53",
   "metadata": {},
   "outputs": [
    {
     "name": "stdout",
     "output_type": "stream",
     "text": [
      "[[ 0  2  4]\n",
      " [ 6  8 10]\n",
      " [12 14 16]]\n"
     ]
    }
   ],
   "source": [
    "result=np.array([0]*9)\n",
    "result=result.reshape(3,3)\n",
    "for r in range(3):\n",
    "    for c in range(3):\n",
    "        result[r][c]=array1[r][c]+array2[r][c]\n",
    "print(np.array(result))"
   ]
  },
  {
   "cell_type": "code",
   "execution_count": 4,
   "id": "194a5dd7-1da5-4bd2-be41-89801036c664",
   "metadata": {},
   "outputs": [
    {
     "name": "stdout",
     "output_type": "stream",
     "text": [
      "[[ 0  1  4]\n",
      " [ 0  4 10]\n",
      " [ 0  7 16]]\n"
     ]
    }
   ],
   "source": [
    "result=np.array([0]*9)\n",
    "result=result.reshape(3,3)\n",
    "for r in range(3):\n",
    "    for c in range(3):\n",
    "        result[r][c]=c*array1[r][c]\n",
    "print(np.array(result))"
   ]
  },
  {
   "cell_type": "markdown",
   "id": "e49faa37-62fb-4b3d-adcb-654be5e15c9d",
   "metadata": {},
   "source": [
    "### Multiplication of Matrix"
   ]
  },
  {
   "cell_type": "code",
   "execution_count": 56,
   "id": "7ee1cda3-832f-4817-8912-0b4049d2c79b",
   "metadata": {},
   "outputs": [
    {
     "name": "stdout",
     "output_type": "stream",
     "text": [
      "[[3 7]\n",
      " [4 9]] \n",
      "X\n",
      " [[6 2]\n",
      " [5 8]]\n",
      "result:\n",
      " [[53 62]\n",
      " [69 80]]\n"
     ]
    }
   ],
   "source": [
    "array1=np.array([3,7,4,9])\n",
    "array1=array1.reshape(2,2)\n",
    "array2=np.array([6,2,5,8])\n",
    "array2=array2.reshape(2,2)\n",
    "print(array1,\"\\nX\\n\",array2)\n",
    "result=[]\n",
    "for r in range(2):\n",
    "        for i in range(len(array2)):\n",
    "            temp=0\n",
    "            for c in range(2):\n",
    "                temp+=array2[c][i] * array1[r][c]\n",
    "            result.append(temp)\n",
    "print(\"result:\\n\",np.array(result).reshape(2,2))"
   ]
  },
  {
   "cell_type": "code",
   "execution_count": 62,
   "id": "48d38b64-1efc-4a8f-876a-18f6f9ddf7a6",
   "metadata": {},
   "outputs": [
    {
     "name": "stdout",
     "output_type": "stream",
     "text": [
      "[[3 7]\n",
      " [4 9]] \n",
      "X\n",
      " [[6 2]\n",
      " [5 8]]\n",
      "result:\n",
      " [[53 62]\n",
      " [69 80]]\n"
     ]
    }
   ],
   "source": [
    "array1=np.array([3,7,4,9])\n",
    "array1=array1.reshape(2,2)\n",
    "array2=np.array([6,2,5,8])\n",
    "array2=array2.reshape(2,2)\n",
    "print(array1,\"\\nX\\n\",array2)\n",
    "result=np.array([0]*4).reshape(2,2)\n",
    "for r in range(2):\n",
    "    for c in range(2):\n",
    "        temp=0\n",
    "        for i in range(2):\n",
    "                temp+=array1[r][i] * array2[i][c]\n",
    "                result[r][c]=temp\n",
    "print(\"result:\\n\",np.array(result).reshape(2,2))"
   ]
  },
  {
   "cell_type": "markdown",
   "id": "9caf447c-ab11-42cb-8d20-ae5e611447ff",
   "metadata": {},
   "source": [
    "## Transpose matrix"
   ]
  },
  {
   "cell_type": "code",
   "execution_count": 4,
   "id": "1fb60208-3bf7-4eca-851a-fdc781399ef3",
   "metadata": {},
   "outputs": [
    {
     "name": "stdout",
     "output_type": "stream",
     "text": [
      "[[0 1 2]\n",
      " [3 4 5]\n",
      " [6 7 8]]\n"
     ]
    }
   ],
   "source": [
    "array1=np.array(range(0,9))\n",
    "array1=array1.reshape(3,3)\n",
    "print(array1)"
   ]
  },
  {
   "cell_type": "code",
   "execution_count": 23,
   "id": "19f8a0f0-91d6-48f3-bd99-c2924178a6b8",
   "metadata": {},
   "outputs": [
    {
     "name": "stdout",
     "output_type": "stream",
     "text": [
      "[[0 0 0]\n",
      " [0 0 0]\n",
      " [0 0 0]]\n"
     ]
    }
   ],
   "source": [
    "result=np.array([[0 for i in range(3)] for i in range(3)])\n",
    "print(result)"
   ]
  },
  {
   "cell_type": "code",
   "execution_count": 31,
   "id": "6f2c08a6-93cd-45df-9b75-7a54c5781547",
   "metadata": {},
   "outputs": [
    {
     "name": "stdout",
     "output_type": "stream",
     "text": [
      "[[0 3 6]\n",
      " [1 4 7]\n",
      " [2 5 8]]\n"
     ]
    }
   ],
   "source": [
    "for i in range(len(result)):\n",
    "    for j in range(len(result[0])):\n",
    "        result[j][i]=array1[i][j]\n",
    "print(result)"
   ]
  },
  {
   "cell_type": "markdown",
   "id": "bf51af8d-4229-4b9e-874d-7152f0295d43",
   "metadata": {
    "jp-MarkdownHeadingCollapsed": true
   },
   "source": [
    "### Non Equal Tranpose"
   ]
  },
  {
   "cell_type": "code",
   "execution_count": 5,
   "id": "b5817517-f933-41ba-a903-6d75d5086505",
   "metadata": {},
   "outputs": [
    {
     "name": "stdout",
     "output_type": "stream",
     "text": [
      "[[ 0  1  2  3]\n",
      " [ 4  5  6  7]\n",
      " [ 8  9 10 11]]\n"
     ]
    }
   ],
   "source": [
    "array1=np.array(range(0,12))\n",
    "array1=array1.reshape(3,4)\n",
    "print(array1)"
   ]
  },
  {
   "cell_type": "code",
   "execution_count": 10,
   "id": "edabeb4f-5b49-4036-a0f0-792b7caa480f",
   "metadata": {},
   "outputs": [
    {
     "name": "stdout",
     "output_type": "stream",
     "text": [
      "[[0 0 0]\n",
      " [0 0 0]\n",
      " [0 0 0]\n",
      " [0 0 0]]\n"
     ]
    }
   ],
   "source": [
    "result=np.array([[0 for i in range(len(array1))] for i in range(len(array1[0]))])\n",
    "print(result)"
   ]
  },
  {
   "cell_type": "code",
   "execution_count": 13,
   "id": "adaa04ed-c9cf-4f83-a83f-c3a491f54be2",
   "metadata": {},
   "outputs": [
    {
     "name": "stdout",
     "output_type": "stream",
     "text": [
      "Before Transpose:\n",
      " [[ 0  1  2  3]\n",
      " [ 4  5  6  7]\n",
      " [ 8  9 10 11]]\n",
      "After Transpose:\n",
      " [[ 0  4  8]\n",
      " [ 1  5  9]\n",
      " [ 2  6 10]\n",
      " [ 3  7 11]]\n"
     ]
    }
   ],
   "source": [
    "print(\"Before Transpose:\\n\",array1)\n",
    "for i in range(len(array1[0])):\n",
    "    for j in range(len(array1)):\n",
    "        result[i][j]=array1[j][i]\n",
    "print(\"After Transpose:\\n\",result)"
   ]
  },
  {
   "cell_type": "markdown",
   "id": "0bdf5b69-3b15-4641-86da-ae9ef54aa1bd",
   "metadata": {},
   "source": [
    "### Finding Determinant of Matrix"
   ]
  },
  {
   "cell_type": "code",
   "execution_count": null,
   "id": "563c94cb-2a8c-4c8e-9bd0-319548131a56",
   "metadata": {},
   "outputs": [],
   "source": []
  }
 ],
 "metadata": {
  "kernelspec": {
   "display_name": "Python 3 (ipykernel)",
   "language": "python",
   "name": "python3"
  },
  "language_info": {
   "codemirror_mode": {
    "name": "ipython",
    "version": 3
   },
   "file_extension": ".py",
   "mimetype": "text/x-python",
   "name": "python",
   "nbconvert_exporter": "python",
   "pygments_lexer": "ipython3",
   "version": "3.11.10"
  }
 },
 "nbformat": 4,
 "nbformat_minor": 5
}
