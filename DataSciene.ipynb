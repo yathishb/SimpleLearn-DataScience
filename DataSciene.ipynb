{
 "cells": [
  {
   "cell_type": "code",
   "execution_count": 123,
   "id": "04442c63-438f-4622-8242-4fd1dfa17346",
   "metadata": {},
   "outputs": [],
   "source": [
    "import numpy as np"
   ]
  },
  {
   "cell_type": "code",
   "execution_count": null,
   "id": "5401a9f4-c142-4468-bbd0-f4dcc66050a2",
   "metadata": {},
   "outputs": [],
   "source": [
    "arr=np.array([[1,2,3],[4,5,6]])\n",
    "print('No of Dimenstions:{}\\nShape:{}\\nSize:{}\\nArray DataType:{}\\nTotal Bytes:{}\\nData:{}'.format(arr.ndim,arr.shape,arr.size,arr.dtype,arr.itemsize,arr.data))"
   ]
  },
  {
   "cell_type": "code",
   "execution_count": 17,
   "id": "0db1e41c-f48f-4f85-b736-c000c572ab5c",
   "metadata": {},
   "outputs": [
    {
     "name": "stdout",
     "output_type": "stream",
     "text": [
      "Access Numpy Data\n",
      "Items: 1\n",
      "Items: 2\n",
      "Items: 3\n",
      "Items: 4\n",
      "Items: 5\n",
      "Items: 6\n"
     ]
    }
   ],
   "source": [
    "print(\"Access Numpy Data\")\n",
    "for i in range(arr.shape[0]):\n",
    "    for j in range(arr.shape[1]):\n",
    "        print(\"Items:\",arr[i][j])"
   ]
  },
  {
   "cell_type": "code",
   "execution_count": 51,
   "id": "e4239dd6-e85b-413e-ac78-248a793f4a9b",
   "metadata": {},
   "outputs": [
    {
     "name": "stdout",
     "output_type": "stream",
     "text": [
      "Re-Shaping the Array\n",
      "\n",
      "[[ 0  1  2  3]\n",
      " [ 4  5  6  7]\n",
      " [ 8  9 10 11]] \n",
      "\n",
      "Reshaping 4d Array:\n",
      "\n",
      " [[ 0  1  2]\n",
      " [ 3  4  5]\n",
      " [ 6  7  8]\n",
      " [ 9 10 11]]\n"
     ]
    }
   ],
   "source": [
    "print(\"Re-Shaping the Array\\n\")\n",
    "arr=np.array(range(12))\n",
    "arr=arr.reshape(3,4)\n",
    "print(arr,\"\\n\")\n",
    "print(\"Reshaping 4d Array:\\n\\n\",arr.reshape(4,3))"
   ]
  },
  {
   "cell_type": "code",
   "execution_count": 59,
   "id": "3c9b2e81-1beb-42f7-83a0-07713b050da2",
   "metadata": {},
   "outputs": [
    {
     "name": "stdout",
     "output_type": "stream",
     "text": [
      "Converting the Array to 1D\n",
      "Before Flatterning\n",
      "[[ 0  1  2]\n",
      " [ 3  4  5]\n",
      " [ 6  7  8]\n",
      " [ 9 10 11]]\n",
      "After Flatterning\n",
      "[ 0  1  2  3  4  5  6  7  8  9 10 11]\n"
     ]
    }
   ],
   "source": [
    "print(\"Converting the Array to 1D\")\n",
    "arr=arr.reshape(4,3)\n",
    "print(\"Before Flatterning\")\n",
    "print(arr)\n",
    "print(\"After Flatterning\")\n",
    "print(arr.flatten())"
   ]
  },
  {
   "cell_type": "code",
   "execution_count": 73,
   "id": "c2a43dd8-3e32-42ec-958a-1b815e769e0a",
   "metadata": {},
   "outputs": [
    {
     "name": "stdout",
     "output_type": "stream",
     "text": [
      "Transpose an Array\n",
      "Before Transpose\n",
      "[[ 0  3  6]\n",
      " [ 9  1  4]\n",
      " [ 7 10  2]\n",
      " [ 5  8 11]] (4, 3)\n",
      "After Transpose\n",
      "[[ 0  9  7  5]\n",
      " [ 3  1 10  8]\n",
      " [ 6  4  2 11]] (3, 4)\n"
     ]
    }
   ],
   "source": [
    "print(\"Transpose an Array\")\n",
    "arr=arr.reshape(4,3)\n",
    "print(\"Before Transpose\")\n",
    "print(arr,arr.shape)\n",
    "print(\"After Transpose\")\n",
    "arr=arr.transpose()\n",
    "print(arr,arr.shape)"
   ]
  },
  {
   "cell_type": "code",
   "execution_count": null,
   "id": "beb6c698-1e7e-44c5-a431-b91de194f589",
   "metadata": {},
   "outputs": [],
   "source": [
    "print(\"Working Assignment - In Class\")"
   ]
  },
  {
   "cell_type": "code",
   "execution_count": 91,
   "id": "ff3d8a38-1a6f-4254-b8c8-cb07b76276a3",
   "metadata": {},
   "outputs": [],
   "source": [
    "temparatures=np.array([75.2,77.1,74.5,79.3,82.6,81.2,77.8])\n",
    "temparatures=temparatures.reshape(7,1)"
   ]
  },
  {
   "cell_type": "code",
   "execution_count": 121,
   "id": "50c0829f-e80a-4081-b79f-1a705cc2245b",
   "metadata": {},
   "outputs": [
    {
     "name": "stdout",
     "output_type": "stream",
     "text": [
      "No of Dimenstions:2\n",
      "Shape:(1, 7)\n",
      "Size:7\n",
      "Array DataType:float64\n",
      "Total Bytes:8\n",
      "Data:<memory at 0x106995a40>\n",
      "Data In Memory\n",
      "Temp on 1:75.2\n",
      "Temp on 2:77.1\n",
      "Temp on 3:74.5\n",
      "Temp on 4:79.3\n",
      "Temp on 5:82.6\n",
      "Temp on 6:81.2\n",
      "Temp on 7:77.8\n"
     ]
    }
   ],
   "source": [
    "print('No of Dimenstions:{}\\nShape:{}\\nSize:{}\\nArray DataType:{}\\nTotal Bytes:{}\\nData:{}'.format(temparatures.ndim,temparatures.shape,temparatures.size,temparatures.dtype,temparatures.itemsize,temparatures.data))\n",
    "print(\"Data In Memory\")\n",
    "for i in range(temparatures.shape[0]):\n",
    "    for j in range(temparatures.shape[1]):\n",
    "        print(\"Temp on {}:{}\".format(j+1,temparatures[i][j]))"
   ]
  },
  {
   "cell_type": "code",
   "execution_count": 97,
   "id": "e5f0eed9-fb6e-474a-8456-fa3f55a422b7",
   "metadata": {},
   "outputs": [
    {
     "name": "stdout",
     "output_type": "stream",
     "text": [
      "[75.2 77.1 74.5 79.3 82.6 81.2 77.8]\n"
     ]
    }
   ],
   "source": [
    "temparatures=temparatures.flatten()\n",
    "print(temparatures)"
   ]
  },
  {
   "cell_type": "code",
   "execution_count": 131,
   "id": "96d3ae8c-ac4f-4815-a516-d147a453b4ee",
   "metadata": {},
   "outputs": [
    {
     "name": "stdout",
     "output_type": "stream",
     "text": [
      "[[75.2]\n",
      " [77.1]\n",
      " [74.5]\n",
      " [79.3]\n",
      " [82.6]\n",
      " [81.2]\n",
      " [77.8]]\n",
      "Shape: (7, 1)\n",
      "[[75.2 77.1 74.5 79.3 82.6 81.2 77.8]]\n",
      "Shape: (1, 7)\n"
     ]
    }
   ],
   "source": [
    "temparatures=temparatures.reshape(7,1)\n",
    "print(temparatures)\n",
    "print(\"Shape:\",temparatures.shape)\n",
    "temparatures=temparatures.transpose()\n",
    "print(temparatures)\n",
    "print(\"Shape:\",temparatures.shape)"
   ]
  },
  {
   "cell_type": "code",
   "execution_count": null,
   "id": "1405e63a-2a68-4107-b033-8d8fe97432eb",
   "metadata": {},
   "outputs": [],
   "source": []
  }
 ],
 "metadata": {
  "kernelspec": {
   "display_name": "Python 3 (ipykernel)",
   "language": "python",
   "name": "python3"
  },
  "language_info": {
   "codemirror_mode": {
    "name": "ipython",
    "version": 3
   },
   "file_extension": ".py",
   "mimetype": "text/x-python",
   "name": "python",
   "nbconvert_exporter": "python",
   "pygments_lexer": "ipython3",
   "version": "3.11.5"
  }
 },
 "nbformat": 4,
 "nbformat_minor": 5
}
